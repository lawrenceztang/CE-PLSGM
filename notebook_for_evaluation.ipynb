{
 "cells": [
  {
   "cell_type": "markdown",
   "id": "fcca74e0",
   "metadata": {},
   "source": [
    "## Evaluation code for DIFF2 paper\n",
    "### Usage\n",
    "1. run source_code/scripts/reproduction.sh to get {exp_name} folder that contains the experimental results (see README.md in source_code).\n",
    "3. Run the following scripts (folder \"figs\" will be generated)."
   ]
  },
  {
   "cell_type": "code",
   "execution_count": 52,
   "id": "7eea24a5",
   "metadata": {
    "ExecuteTime": {
     "end_time": "2024-02-08T20:07:34.196145Z",
     "start_time": "2024-02-08T20:07:34.184548Z"
    }
   },
   "outputs": [],
   "source": [
    "import os\n",
    "import pickle\n",
    "import copy\n",
    "\n",
    "import matplotlib.pyplot as plt\n",
    "import seaborn as sns\n",
    "sns.set()\n",
    "import numpy as np\n",
    "import scipy.stats"
   ]
  },
  {
   "cell_type": "markdown",
   "source": [],
   "metadata": {
    "collapsed": false
   },
   "id": "a390fc0371403280"
  },
  {
   "cell_type": "code",
   "execution_count": 53,
   "id": "364e486b",
   "metadata": {
    "ExecuteTime": {
     "end_time": "2024-02-08T20:07:34.204925Z",
     "start_time": "2024-02-08T20:07:34.189851Z"
    }
   },
   "outputs": [],
   "source": [
    "# If you want to evaluate train loss or test loss, choose 0, otherwise choose 1\n",
    "tuning_metrics = [\"train_loss\", \"train_grad_norm\"]\n",
    "tuning_metric = tuning_metrics[0] \n",
    "\n",
    "def search_best_results(files, work_dir):\n",
    "    min_train_loss_lst = []\n",
    "    for file in files:\n",
    "        with open(os.path.join(work_dir, file), \"rb\") as f:\n",
    "            results = pickle.load(f)\n",
    "        results = results[np.min(list(results.keys()))]\n",
    "        if np.isnan(np.min(results[tuning_metric])):\n",
    "            min_train_loss_lst.append(np.inf)\n",
    "        else:\n",
    "            min_train_loss_lst.append(np.min(results[tuning_metric]))\n",
    "    best_file = files[np.argmin(min_train_loss_lst)]\n",
    "    with open(os.path.join(work_dir, best_file), \"rb\") as f:\n",
    "        best_results = pickle.load(f)\n",
    "    best_results = best_results[np.min(list(best_results.keys()))]\n",
    "    return best_results, best_file"
   ]
  },
  {
   "cell_type": "code",
   "execution_count": 54,
   "id": "14e7b2f4",
   "metadata": {
    "ExecuteTime": {
     "end_time": "2024-02-08T20:07:34.205240Z",
     "start_time": "2024-02-08T20:07:34.194354Z"
    }
   },
   "outputs": [],
   "source": [
    "exp_name = \"20230123\"\n",
    "\n",
    "# Choose dataset\n",
    "dataset_names = [\"california_housing\"]\n",
    "dataset_name = dataset_names[0] \n",
    "\n",
    "model_name = \"fc_10\"\n",
    "seeds = [0, 1, 2, 3]\n",
    "\n",
    "eps_lst = [0.6, 1.2, 2.4]\n",
    "all_metrics = [\"train_loss\", \"train_grad_norm\", \"test_loss\", \"test_grad_norm\"]"
   ]
  },
  {
   "cell_type": "code",
   "execution_count": 55,
   "id": "b2b2b3b8",
   "metadata": {
    "ExecuteTime": {
     "end_time": "2024-02-08T20:07:34.253485Z",
     "start_time": "2024-02-08T20:07:34.198753Z"
    }
   },
   "outputs": [
    {
     "ename": "FileNotFoundError",
     "evalue": "[Errno 2] No such file or directory: 'results_0/20230123/fc_10/california_housing/eps_1.2_delta_1e-08/seed_3/ce_plsgm'",
     "output_type": "error",
     "traceback": [
      "\u001B[0;31m---------------------------------------------------------------------------\u001B[0m",
      "\u001B[0;31mFileNotFoundError\u001B[0m                         Traceback (most recent call last)",
      "Cell \u001B[0;32mIn[55], line 7\u001B[0m\n\u001B[1;32m      5\u001B[0m \u001B[38;5;28;01mfor\u001B[39;00m seed \u001B[38;5;129;01min\u001B[39;00m seeds:\n\u001B[1;32m      6\u001B[0m     work_dir \u001B[38;5;241m=\u001B[39m \u001B[38;5;124mf\u001B[39m\u001B[38;5;124m\"\u001B[39m\u001B[38;5;124mresults_0/\u001B[39m\u001B[38;5;132;01m{\u001B[39;00mexp_name\u001B[38;5;132;01m}\u001B[39;00m\u001B[38;5;124m/\u001B[39m\u001B[38;5;132;01m{\u001B[39;00mmodel_name\u001B[38;5;132;01m}\u001B[39;00m\u001B[38;5;124m/\u001B[39m\u001B[38;5;132;01m{\u001B[39;00mdataset_name\u001B[38;5;132;01m}\u001B[39;00m\u001B[38;5;124m/eps_\u001B[39m\u001B[38;5;132;01m{\u001B[39;00meps\u001B[38;5;132;01m}\u001B[39;00m\u001B[38;5;124m_delta_1e-08/seed_\u001B[39m\u001B[38;5;132;01m{\u001B[39;00mseed\u001B[38;5;132;01m}\u001B[39;00m\u001B[38;5;124m/ce_plsgm\u001B[39m\u001B[38;5;124m\"\u001B[39m\n\u001B[0;32m----> 7\u001B[0m     all_files \u001B[38;5;241m=\u001B[39m \u001B[43mos\u001B[49m\u001B[38;5;241;43m.\u001B[39;49m\u001B[43mlistdir\u001B[49m\u001B[43m(\u001B[49m\u001B[43mwork_dir\u001B[49m\u001B[43m)\u001B[49m\n\u001B[1;32m      8\u001B[0m     files \u001B[38;5;241m=\u001B[39m [file \u001B[38;5;28;01mfor\u001B[39;00m file \u001B[38;5;129;01min\u001B[39;00m all_files]\n\u001B[1;32m      9\u001B[0m     best_results, best_file \u001B[38;5;241m=\u001B[39m search_best_results(files, work_dir)\n",
      "\u001B[0;31mFileNotFoundError\u001B[0m: [Errno 2] No such file or directory: 'results_0/20230123/fc_10/california_housing/eps_1.2_delta_1e-08/seed_3/ce_plsgm'"
     ]
    }
   ],
   "source": [
    "saved_results = {(eps, seed): {met: None for met in all_metrics} for eps in eps_lst for seed in seeds}\n",
    "for eps in eps_lst:\n",
    "    if (eps == None):\n",
    "        continue\n",
    "    for seed in seeds:\n",
    "        work_dir = f\"results/{exp_name}/{model_name}/{dataset_name}/eps_{eps}_delta_1e-08/seed_{seed}/ce_plsgm\"\n",
    "        all_files = os.listdir(work_dir)\n",
    "        files = [file for file in all_files]\n",
    "        best_results, best_file = search_best_results(files, work_dir)\n",
    "        for met in all_metrics:\n",
    "            saved_results[(eps, seed)][met] = best_results[met]"
   ]
  },
  {
   "cell_type": "code",
   "execution_count": null,
   "id": "eb4f7556",
   "metadata": {
    "ExecuteTime": {
     "end_time": "2024-02-08T20:07:34.257305Z",
     "start_time": "2024-02-08T20:07:34.255471Z"
    }
   },
   "outputs": [],
   "source": [
    "def get_metric_name_for_plot(metric):\n",
    "    if eval_metric == \"train_loss\":\n",
    "        return \"Train Loss\"\n",
    "    elif eval_metric == \"train_grad_norm\":\n",
    "        return \"Train Grad. Norm\"\n",
    "    elif eval_metric == \"test_loss\":\n",
    "        return \"Test Loss\"\n",
    "    elif eval_metric == \"test_grad_norm\":\n",
    "        return \"Test Grad. Norm\"\n",
    "    else:\n",
    "        assert False\n",
    "        \n",
    "def get_dataset_name_for_plot(dataset_name):\n",
    "    if dataset_name == \"california_housing\":\n",
    "        return \"California Housing\"\n",
    "    elif dataset_name == \"gas\":\n",
    "        return \"Gas Turbine\"\n",
    "    elif dataset_name == \"blog\":\n",
    "        return \"BlogFeedback\"\n",
    "    else:\n",
    "        assert False"
   ]
  },
  {
   "cell_type": "code",
   "execution_count": null,
   "id": "2d039a42",
   "metadata": {
    "scrolled": true,
    "ExecuteTime": {
     "start_time": "2024-02-08T20:07:34.257042Z"
    }
   },
   "outputs": [],
   "source": [
    "# Choose evaluation metric\n",
    "eval_metrics = [\"train_loss\", \"train_grad_norm\", \"test_loss\"]\n",
    "eval_metric =  eval_metrics[0] \n",
    "\n",
    "if eval_metric == \"train_grad_norm\":\n",
    "    assert tuning_metric == \"train_grad_norm\"\n",
    "if tuning_metric == \"train_grad_norm\":\n",
    "    assert eval_metric == \"train_grad_norm\"\n",
    "\n",
    "if \"loss\" in eval_metric or \"grad_norm\" in eval_metric:\n",
    "    eval_func = np.min\n",
    "elif \"acc\" in eval_metric:\n",
    "    eval_func = np.max\n",
    "\n",
    "sep = 1\n",
    "markers = [\"o\", \"^\", \"s\"]\n",
    "for eps, marker in zip(eps_lst, markers): \n",
    "\n",
    "    means = np.mean([saved_results[(eps, seed)][eval_metric] for seed in seeds] \n",
    "                    , axis=0)[::sep]\n",
    "    stds = np.std([saved_results[(eps, seed)][eval_metric] for seed in seeds] \n",
    "                    , axis=0)[::sep]\n",
    "\n",
    "    plt.plot(range(len(means)), means, marker=marker, ms=8, lw=2, label=f\"eps={eps}\")\n",
    "    plt.fill_between(range(len(means)), means - stds, means + stds, alpha=0.2)\n",
    "    plt.legend(fontsize=16)\n",
    "    plt.xticks(fontsize=16)\n",
    "    plt.yticks(fontsize=16)\n",
    "    plt.xlabel(f\"# Communication Rounds / {20*sep}\", fontsize=20)\n",
    "    plt.ylabel(get_metric_name_for_plot(eval_metric), fontsize=20)\n",
    "    \n",
    "    data = [eval_func(np.array(saved_results[(eps, seed)][eval_metric]))\n",
    "                  - eval_func(np.array(saved_results[(eps, seed)][eval_metric]))\n",
    "                              for seed in seeds] \n",
    "\n",
    "    plt.title(get_dataset_name_for_plot(dataset_name), fontsize=20)\n",
    "    if tuning_metric == \"train_grad_norm\":\n",
    "        plt.yscale(\"log\")\n",
    "    else:\n",
    "        if dataset_name == \"california_housing\":\n",
    "            ylim_l, ylim_u = 0.015, 0.2\n",
    "        elif dataset_name == \"gas\":\n",
    "            ylim_l, ylim_u = 0.0009, 0.0013\n",
    "        elif dataset_name == \"blog\":\n",
    "            ylim_l, ylim_u =  0.0002, 0.004 \n",
    "        plt.ylim(ylim_l, ylim_u)\n",
    "    plt.tight_layout()\n",
    "\n",
    "save_dir = f\"figs/{dataset_name}/{model_name}\"\n",
    "if not os.path.isdir(save_dir):\n",
    "    os.makedirs(save_dir)\n",
    "plt.savefig(os.path.join(save_dir, f\"{eval_metric}.png\"))\n",
    "plt.show()\n",
    "plt.close()"
   ]
  },
  {
   "cell_type": "code",
   "execution_count": null,
   "outputs": [],
   "source": [],
   "metadata": {
    "collapsed": false,
    "ExecuteTime": {
     "start_time": "2024-02-08T20:07:34.257947Z"
    }
   },
   "id": "40a2d995666f2c2d"
  }
 ],
 "metadata": {
  "kernelspec": {
   "display_name": "Python 3",
   "language": "python",
   "name": "python3"
  },
  "language_info": {
   "codemirror_mode": {
    "name": "ipython",
    "version": 3
   },
   "file_extension": ".py",
   "mimetype": "text/x-python",
   "name": "python",
   "nbconvert_exporter": "python",
   "pygments_lexer": "ipython3",
   "version": "3.8.8"
  }
 },
 "nbformat": 4,
 "nbformat_minor": 5
}
